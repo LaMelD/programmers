{
 "cells": [
  {
   "cell_type": "code",
   "execution_count": 2,
   "id": "5e43fc85",
   "metadata": {},
   "outputs": [
    {
     "ename": "com_error",
     "evalue": "(-2147221005, '잘못된 클래스 문자열입니다.', None, None)",
     "output_type": "error",
     "traceback": [
      "\u001b[31m---------------------------------------------------------------------------\u001b[39m",
      "\u001b[31mcom_error\u001b[39m                                 Traceback (most recent call last)",
      "\u001b[36mFile \u001b[39m\u001b[32m~\\AppData\\Roaming\\Python\\Python313\\site-packages\\win32com\\client\\dynamic.py:81\u001b[39m, in \u001b[36m_GetGoodDispatch\u001b[39m\u001b[34m(IDispatch, clsctx)\u001b[39m\n\u001b[32m     80\u001b[39m \u001b[38;5;28;01mtry\u001b[39;00m:\n\u001b[32m---> \u001b[39m\u001b[32m81\u001b[39m     IDispatch = \u001b[43mpythoncom\u001b[49m\u001b[43m.\u001b[49m\u001b[43mconnect\u001b[49m\u001b[43m(\u001b[49m\u001b[43mIDispatch\u001b[49m\u001b[43m)\u001b[49m\n\u001b[32m     82\u001b[39m \u001b[38;5;28;01mexcept\u001b[39;00m pythoncom.ole_error:\n",
      "\u001b[31mcom_error\u001b[39m: (-2147221005, '잘못된 클래스 문자열입니다.', None, None)",
      "\nDuring handling of the above exception, another exception occurred:\n",
      "\u001b[31mcom_error\u001b[39m                                 Traceback (most recent call last)",
      "\u001b[36mCell\u001b[39m\u001b[36m \u001b[39m\u001b[32mIn[2]\u001b[39m\u001b[32m, line 3\u001b[39m\n\u001b[32m      1\u001b[39m \u001b[38;5;28;01mimport\u001b[39;00m\u001b[38;5;250m \u001b[39m\u001b[34;01mwin32com\u001b[39;00m\u001b[34;01m.\u001b[39;00m\u001b[34;01mclient\u001b[39;00m\n\u001b[32m----> \u001b[39m\u001b[32m3\u001b[39m mm = \u001b[43mwin32com\u001b[49m\u001b[43m.\u001b[49m\u001b[43mclient\u001b[49m\u001b[43m.\u001b[49m\u001b[43mDispatch\u001b[49m\u001b[43m(\u001b[49m\u001b[33;43m\"\u001b[39;49m\u001b[33;43mWindows.MediaDeviceManager\u001b[39;49m\u001b[33;43m\"\u001b[39;49m\u001b[43m)\u001b[49m\n\u001b[32m      4\u001b[39m capture_devices = mm.GetAudioCaptureSelectorList()\n",
      "\u001b[36mFile \u001b[39m\u001b[32m~\\AppData\\Roaming\\Python\\Python313\\site-packages\\win32com\\client\\__init__.py:116\u001b[39m, in \u001b[36mDispatch\u001b[39m\u001b[34m(dispatch, userName, resultCLSID, typeinfo, clsctx)\u001b[39m\n\u001b[32m    108\u001b[39m \u001b[38;5;28;01mdef\u001b[39;00m\u001b[38;5;250m \u001b[39m\u001b[34mDispatch\u001b[39m(\n\u001b[32m    109\u001b[39m     dispatch,\n\u001b[32m    110\u001b[39m     userName=\u001b[38;5;28;01mNone\u001b[39;00m,\n\u001b[32m   (...)\u001b[39m\u001b[32m    113\u001b[39m     clsctx=pythoncom.CLSCTX_SERVER,\n\u001b[32m    114\u001b[39m ):\n\u001b[32m    115\u001b[39m \u001b[38;5;250m    \u001b[39m\u001b[33;03m\"\"\"Creates a Dispatch based COM object.\"\"\"\u001b[39;00m\n\u001b[32m--> \u001b[39m\u001b[32m116\u001b[39m     dispatch, userName = \u001b[43mdynamic\u001b[49m\u001b[43m.\u001b[49m\u001b[43m_GetGoodDispatchAndUserName\u001b[49m\u001b[43m(\u001b[49m\u001b[43mdispatch\u001b[49m\u001b[43m,\u001b[49m\u001b[43m \u001b[49m\u001b[43muserName\u001b[49m\u001b[43m,\u001b[49m\u001b[43m \u001b[49m\u001b[43mclsctx\u001b[49m\u001b[43m)\u001b[49m\n\u001b[32m    117\u001b[39m     \u001b[38;5;28;01mreturn\u001b[39;00m __WrapDispatch(dispatch, userName, resultCLSID, typeinfo, clsctx=clsctx)\n",
      "\u001b[36mFile \u001b[39m\u001b[32m~\\AppData\\Roaming\\Python\\Python313\\site-packages\\win32com\\client\\dynamic.py:101\u001b[39m, in \u001b[36m_GetGoodDispatchAndUserName\u001b[39m\u001b[34m(IDispatch, userName, clsctx)\u001b[39m\n\u001b[32m     98\u001b[39m     \u001b[38;5;66;03m## ??? else userName remains None ???\u001b[39;00m\n\u001b[32m     99\u001b[39m \u001b[38;5;28;01melse\u001b[39;00m:\n\u001b[32m    100\u001b[39m     userName = \u001b[38;5;28mstr\u001b[39m(userName)\n\u001b[32m--> \u001b[39m\u001b[32m101\u001b[39m \u001b[38;5;28;01mreturn\u001b[39;00m (\u001b[43m_GetGoodDispatch\u001b[49m\u001b[43m(\u001b[49m\u001b[43mIDispatch\u001b[49m\u001b[43m,\u001b[49m\u001b[43m \u001b[49m\u001b[43mclsctx\u001b[49m\u001b[43m)\u001b[49m, userName)\n",
      "\u001b[36mFile \u001b[39m\u001b[32m~\\AppData\\Roaming\\Python\\Python313\\site-packages\\win32com\\client\\dynamic.py:83\u001b[39m, in \u001b[36m_GetGoodDispatch\u001b[39m\u001b[34m(IDispatch, clsctx)\u001b[39m\n\u001b[32m     81\u001b[39m         IDispatch = pythoncom.connect(IDispatch)\n\u001b[32m     82\u001b[39m     \u001b[38;5;28;01mexcept\u001b[39;00m pythoncom.ole_error:\n\u001b[32m---> \u001b[39m\u001b[32m83\u001b[39m         IDispatch = \u001b[43mpythoncom\u001b[49m\u001b[43m.\u001b[49m\u001b[43mCoCreateInstance\u001b[49m\u001b[43m(\u001b[49m\n\u001b[32m     84\u001b[39m \u001b[43m            \u001b[49m\u001b[43mIDispatch\u001b[49m\u001b[43m,\u001b[49m\u001b[43m \u001b[49m\u001b[38;5;28;43;01mNone\u001b[39;49;00m\u001b[43m,\u001b[49m\u001b[43m \u001b[49m\u001b[43mclsctx\u001b[49m\u001b[43m,\u001b[49m\u001b[43m \u001b[49m\u001b[43mpythoncom\u001b[49m\u001b[43m.\u001b[49m\u001b[43mIID_IDispatch\u001b[49m\n\u001b[32m     85\u001b[39m \u001b[43m        \u001b[49m\u001b[43m)\u001b[49m\n\u001b[32m     86\u001b[39m \u001b[38;5;28;01melse\u001b[39;00m:\n\u001b[32m     87\u001b[39m     \u001b[38;5;66;03m# may already be a wrapped class.\u001b[39;00m\n\u001b[32m     88\u001b[39m     IDispatch = \u001b[38;5;28mgetattr\u001b[39m(IDispatch, \u001b[33m\"\u001b[39m\u001b[33m_oleobj_\u001b[39m\u001b[33m\"\u001b[39m, IDispatch)\n",
      "\u001b[31mcom_error\u001b[39m: (-2147221005, '잘못된 클래스 문자열입니다.', None, None)"
     ]
    }
   ],
   "source": [
    "import win32com.client\n",
    "\n",
    "mm = win32com.client.Dispatch(\"Windows.MediaDeviceManager\")\n",
    "capture_devices = mm.GetAudioCaptureSelectorList()"
   ]
  },
  {
   "cell_type": "code",
   "execution_count": null,
   "id": "4bfa2c7c",
   "metadata": {},
   "outputs": [],
   "source": [
    "import win32api\n",
    "import win32con\n",
    "import win32gui\n",
    "import win32com.client\n",
    "\n",
    "def set_audio_capture_device(name):\n",
    "    mm = win32com.client.Dispatch(\"Windows.MediaDeviceManager\")\n",
    "\n",
    "    capture_devices = mm.GetAudioCaptureSelectorList()\n",
    "\n",
    "    device_found = False\n",
    "    for device in capture_devices:\n",
    "        if name.lower() in device[0].lower():\n",
    "            mm.SetDefaultAudioCaptureDevice(device[1], win32com.client.constants.AudioDeviceRole.Communications)\n",
    "            device_found = True\n",
    "            break\n",
    "\n",
    "    if not device_found:\n",
    "        print(f\"'{name}'을/를 찾을 수 없음\")\n",
    "\n",
    "def set_audio_playback_device(name):\n",
    "    mm = win32com.client.Dispatch(\"Windows.MediaDeviceManager\")\n",
    "\n",
    "    playback_devices = mm.GetAudioRenderSelectorList()\n",
    "\n",
    "    device_found = False\n",
    "    for device in playback_devices:\n",
    "        if name.lower() in device[0].lower():\n",
    "            mm.SetDefaultAudioRenderDevice(device[1], win32com.client.constants.AudioDeviceRole.Communications)\n",
    "            device_found = True\n",
    "            break\n",
    "\n",
    "    if not device_found:\n",
    "        print(f\"'{name}'을/를 찾을 수 없음\")"
   ]
  }
 ],
 "metadata": {
  "kernelspec": {
   "display_name": "Python 3",
   "language": "python",
   "name": "python3"
  },
  "language_info": {
   "codemirror_mode": {
    "name": "ipython",
    "version": 3
   },
   "file_extension": ".py",
   "mimetype": "text/x-python",
   "name": "python",
   "nbconvert_exporter": "python",
   "pygments_lexer": "ipython3",
   "version": "3.13.2"
  }
 },
 "nbformat": 4,
 "nbformat_minor": 5
}
